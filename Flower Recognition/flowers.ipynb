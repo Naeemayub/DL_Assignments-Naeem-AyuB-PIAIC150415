{
  "nbformat": 4,
  "nbformat_minor": 0,
  "metadata": {
    "kernelspec": {
      "display_name": "Python 3",
      "language": "python",
      "name": "python3"
    },
    "language_info": {
      "codemirror_mode": {
        "name": "ipython",
        "version": 3
      },
      "file_extension": ".py",
      "mimetype": "text/x-python",
      "name": "python",
      "nbconvert_exporter": "python",
      "pygments_lexer": "ipython3",
      "version": "3.7.6"
    },
    "colab": {
      "name": "Untitled.ipynb",
      "provenance": []
    },
    "accelerator": "GPU"
  },
  "cells": [
    {
      "cell_type": "markdown",
      "metadata": {
        "id": "izLjc8uG6h7j"
      },
      "source": [
        "# Assignment: Flowers Recognition\n",
        "Dataset Description:\n",
        "\n",
        "This dataset contains 4242 images of flowers.\n",
        "The data collection is based on the data flicr, google images, yandex images.\n",
        "You can use this datastet to recognize plants from the photo.\n",
        "\n",
        "Attribute Information:\n",
        "The pictures are divided into five classes: chamomile, tulip, rose, sunflower, dandelion.\n",
        "For each class there are about 800 photos. Photos are not high resolution, about 320x240 pixels.\n",
        "Also explore how to resize images in tensorflow and then resize all the images to a same size.\n",
        "This is a Multiclass Classification Problem.\n",
        "\n",
        "WORKFLOW :\n",
        "Load Data\n",
        "Split into 60 and 40 ratio.\n",
        "Encode labels.\n",
        "Create Model\n",
        "Compilation Step (Note : Its a Multiclass Classification problem , select loss , metrics according to it)\n",
        "Train the Model.\n",
        "If the model gets overfit tune your model by changing the units , No. of layers , epochs , add dropout layer or add Regularizer according to the need .\n",
        "Prediction should be > 85%\n",
        "Evaluation Step\n",
        "Prediction"
      ]
    },
    {
      "cell_type": "code",
      "metadata": {
        "id": "hpeCGo4m6pq5"
      },
      "source": [
        ""
      ],
      "execution_count": 2,
      "outputs": []
    },
    {
      "cell_type": "code",
      "metadata": {
        "colab": {
          "base_uri": "https://localhost:8080/"
        },
        "id": "-Tbeid1V6sEh",
        "outputId": "f75ef5da-cf41-4005-aa1e-8838590aca92"
      },
      "source": [
        "from google.colab import drive\n",
        "drive.mount('/content/drive')"
      ],
      "execution_count": 3,
      "outputs": [
        {
          "output_type": "stream",
          "text": [
            "Drive already mounted at /content/drive; to attempt to forcibly remount, call drive.mount(\"/content/drive\", force_remount=True).\n"
          ],
          "name": "stdout"
        }
      ]
    },
    {
      "cell_type": "code",
      "metadata": {
        "colab": {
          "base_uri": "https://localhost:8080/"
        },
        "id": "K0rWeIp7600f",
        "outputId": "d8188c0e-ccac-449b-e8ce-892487ad71a4"
      },
      "source": [
        "cd /content/drive/MyDrive/AIC_DL_Assignment/flowers"
      ],
      "execution_count": 4,
      "outputs": [
        {
          "output_type": "stream",
          "text": [
            "/content/drive/MyDrive/AIC_DL_Assignment/flowers\n"
          ],
          "name": "stdout"
        }
      ]
    },
    {
      "cell_type": "code",
      "metadata": {
        "id": "Wwh76FQ16h7q"
      },
      "source": [
        "import numpy as np\n",
        "import pandas as pd"
      ],
      "execution_count": 5,
      "outputs": []
    },
    {
      "cell_type": "code",
      "metadata": {
        "id": "3TqqaC_l6h7r"
      },
      "source": [
        "import warnings\n",
        "warnings.filterwarnings('always')\n",
        "warnings.filterwarnings('ignore')"
      ],
      "execution_count": 6,
      "outputs": []
    },
    {
      "cell_type": "code",
      "metadata": {
        "id": "IhO65cw16h7r"
      },
      "source": [
        "# !pip install -U -q PyDrive"
      ],
      "execution_count": 7,
      "outputs": []
    },
    {
      "cell_type": "code",
      "metadata": {
        "id": "_9TfhyJ76h7r"
      },
      "source": [
        "# from pydrive.auth import GoogleAuth\n",
        "# from pydrive.drive import GoogleDrive\n",
        "# from google.colab import auth\n",
        "# from oauth2client.client import GoogleCredentials\n",
        "\n",
        "# auth.authenticate_user()\n",
        "# gauth = GoogleAuth()\n",
        "# gauth.credentials = GoogleCredentials.get_application_default()\n",
        "# drive = GoogleDrive(gauth)\n",
        "# file_id = 'REPLACE_WITH_YOUR_FILE_ID'\n",
        "# downloaded = drive.CreateFile({'id': file_id})\n",
        "# print('Downloaded content \"{}\"'.format(downloaded.GetContentString()))"
      ],
      "execution_count": 8,
      "outputs": []
    },
    {
      "cell_type": "code",
      "metadata": {
        "id": "6TZZh-Bj6h7s"
      },
      "source": [
        ""
      ],
      "execution_count": 8,
      "outputs": []
    },
    {
      "cell_type": "code",
      "metadata": {
        "id": "dJHcW-bG6h7s"
      },
      "source": [
        "import tensorflow as tf\n",
        "from tensorflow.keras import models\n",
        "from tensorflow.keras import layers\n",
        "from tensorflow.keras.preprocessing.image import ImageDataGenerator\n",
        "from tensorflow.keras.models import Sequential\n",
        "from tensorflow.keras.layers import Dense, Flatten\n",
        "from tensorflow.keras.optimizers import RMSprop\n",
        "# from tensorflow.keras.layers import Dropout, Flatten,Activation\n",
        "# from tensorflow.keras.layers import Conv2D, MaxPooling2D, BatchNormalization\n"
      ],
      "execution_count": 9,
      "outputs": []
    },
    {
      "cell_type": "code",
      "metadata": {
        "id": "zS8HTr6-6h7s"
      },
      "source": [
        "# import glob\n",
        "# import cv2\n",
        "# import numpy as np\n",
        "# IMG_DIR = './daisy'\n",
        "# IMG_DIR1 = './dandelion'\n",
        "# IMG_DIR2 = './rose'\n",
        "# IMG_DIR3 = './sunflower'\n",
        "# IMG_DIR4 = './tulip'\n",
        "\n",
        "# def read_images(directory):\n",
        "#   for img in glob.glob(directory+ \"/*.jpg\"):\n",
        "#     image=cv2.imread(img)\n",
        "#     resized_img=cv2.resize(image/255.0, (320,240))\n",
        "\n",
        "#     yield resized_img\n",
        "# resized_imgs = np.array(list(read_images(IMG_DIR)))\n",
        "# resized_imgs1 = np.array(list(read_images(IMG_DIR1)))\n",
        "# resized_imgs2 = np.array(list(read_images(IMG_DIR2)))\n",
        "# resized_imgs3 = np.array(list(read_images(IMG_DIR3)))\n",
        "# resized_imgs4 = np.array(list(read_images(IMG_DIR4)))"
      ],
      "execution_count": 10,
      "outputs": []
    },
    {
      "cell_type": "code",
      "metadata": {
        "id": "TX0NwlVS-MAx"
      },
      "source": [
        "# resized_imgs.shape"
      ],
      "execution_count": 11,
      "outputs": []
    },
    {
      "cell_type": "code",
      "metadata": {
        "id": "0MhUxzWUDi2w"
      },
      "source": [
        "# label = np.zeros((resized_imgs.shape[0],1))\n",
        "# label1 = np.ones((resized_imgs1.shape[0],1))\n",
        "# label2 = np.full((resized_imgs2.shape[0],1),2)\n",
        "# label3 = np.full((resized_imgs3.shape[0],1),3)\n",
        "# label4 = np.full((resized_imgs4.shape[0],1),4)"
      ],
      "execution_count": 12,
      "outputs": []
    },
    {
      "cell_type": "code",
      "metadata": {
        "id": "wZFWMs_jG1AS"
      },
      "source": [
        "# label1.shape"
      ],
      "execution_count": 13,
      "outputs": []
    },
    {
      "cell_type": "code",
      "metadata": {
        "id": "aBZ5mG-BHUCS"
      },
      "source": [
        "# data= np.concatenate((resized_imgs,resized_imgs1,resized_imgs2,resized_imgs3,resized_imgs4))\n"
      ],
      "execution_count": 14,
      "outputs": []
    },
    {
      "cell_type": "code",
      "metadata": {
        "id": "8deQLxdyH4Uc"
      },
      "source": [
        "# label0 = np.concatenate((label,label1,label2,label3,label4))"
      ],
      "execution_count": 15,
      "outputs": []
    },
    {
      "cell_type": "code",
      "metadata": {
        "id": "6CtMtgaXIdj8"
      },
      "source": [
        "# np.see(111)\n",
        "# msk = np.random.rand(len(data)) <0.7\n",
        "# train_data = data[msk]\n",
        "# test_data = data[~msk]\n",
        "# train_label = label0[msk]\n",
        "# test_label = label0[~msk]\n"
      ],
      "execution_count": 16,
      "outputs": []
    },
    {
      "cell_type": "code",
      "metadata": {
        "id": "2JoYNYHxOxUg"
      },
      "source": [
        "# from keras.utils import to_categorical\n",
        "# train_labels = to_categorical(train_label)\n",
        "# test_labels = to_categorical(test_label)"
      ],
      "execution_count": 17,
      "outputs": []
    },
    {
      "cell_type": "code",
      "metadata": {
        "id": "HIsVjO9sK88X"
      },
      "source": [
        "# print(train_data.shape)\n",
        "# print(test_data.shape)\n",
        "# print(train_label.shape)\n",
        "# print(test_label.shape)"
      ],
      "execution_count": 18,
      "outputs": []
    },
    {
      "cell_type": "code",
      "metadata": {
        "id": "Z4FqZTViNZHM"
      },
      "source": [
        "# train_data.reshape(3004,320*240*3)\n",
        "# test_data.reshape(1319,320*240*3)"
      ],
      "execution_count": 19,
      "outputs": []
    },
    {
      "cell_type": "code",
      "metadata": {
        "id": "0RG__Vr2LXR_"
      },
      "source": [
        "# from keras import models\n",
        "# from keras import layers\n",
        "# model = models.Sequential()\n",
        "# model.add(layers.Dense(64, activation='relu', input_shape=(10000,)))\n",
        "# model.add(layers.Dense(64, activation='relu'))\n",
        "# model.add(layers.Dense(46, activation='softmax'))"
      ],
      "execution_count": 20,
      "outputs": []
    },
    {
      "cell_type": "code",
      "metadata": {
        "id": "YEtHHwnmMA8u"
      },
      "source": [
        "# model.compile(optimizer='rmsprop',\n",
        "# loss='categorical_crossentropy',\n",
        "# metrics=['accuracy'])"
      ],
      "execution_count": 21,
      "outputs": []
    },
    {
      "cell_type": "code",
      "metadata": {
        "id": "eohhimWKMYoR"
      },
      "source": [
        "# history = model.fit(partial_x_train,\n",
        "# partial_y_train,\n",
        "# epochs=20,\n",
        "# batch_size=512,\n",
        "# validation_data=(x_val, y_val))"
      ],
      "execution_count": 22,
      "outputs": []
    },
    {
      "cell_type": "code",
      "metadata": {
        "colab": {
          "base_uri": "https://localhost:8080/"
        },
        "id": "UauyqkHt6h7s",
        "outputId": "7f6af2ea-268f-461e-d8a6-037865258a41"
      },
      "source": [
        "train_datagen = ImageDataGenerator(\n",
        "        rescale=1./255,\n",
        "        shear_range=0.4,\n",
        "        zoom_range=0.3,\n",
        "        validation_split = 0.4,\n",
        "        horizontal_flip=True\n",
        "    )\n",
        "\n",
        "# test_datagen = ImageDataGenerator(rescale=1./255)\n",
        "train_generator = train_datagen.flow_from_directory(\n",
        "        '/content/drive/MyDrive/AIC_DL_Assignment/flowers',\n",
        "        target_size=(180, 180),\n",
        "        batch_size=20,\n",
        "        class_mode= 'categorical',\n",
        "        subset = 'training',\n",
        "        shuffle = True\n",
        "        )\n",
        "validation_generator = train_datagen.flow_from_directory(\n",
        "        '/content/drive/MyDrive/AIC_DL_Assignment/flowers',\n",
        "        target_size=(180, 180),\n",
        "        batch_size=10,\n",
        "        class_mode='categorical',\n",
        "        subset = 'validation',\n",
        "        shuffle = True)\n"
      ],
      "execution_count": 23,
      "outputs": [
        {
          "output_type": "stream",
          "text": [
            "Found 2597 images belonging to 5 classes.\n",
            "Found 1726 images belonging to 5 classes.\n"
          ],
          "name": "stdout"
        }
      ]
    },
    {
      "cell_type": "code",
      "metadata": {
        "id": "cynHIimG6h7t"
      },
      "source": [
        "model = tf.keras.models.Sequential([\n",
        "    \n",
        "    tf.keras.layers.Conv2D(256, (3, 3), activation='relu', input_shape=(180,180,3)),\n",
        "    tf.keras.layers.MaxPooling2D(pool_size=(2, 2),strides=(1, 1), padding='valid'),\n",
        "    \n",
        "    tf.keras.layers.Conv2D(128, (3, 3), activation='relu'),\n",
        "    tf.keras.layers.MaxPooling2D(pool_size=(2, 2),strides=(1, 1), padding='valid'),\n",
        "    \n",
        "    tf.keras.layers.Conv2D(128, (3, 3), activation='relu'),\n",
        "    tf.keras.layers.MaxPooling2D(pool_size=(2, 2),strides=(1, 1), padding='valid'),\n",
        "    \n",
        "    tf.keras.layers.Conv2D(128, (3, 3), activation='relu'),\n",
        "    tf.keras.layers.MaxPooling2D(pool_size=(2, 2),strides=(1, 1), padding='valid'),\n",
        "    \n",
        "    tf.keras.layers.Flatten(),\n",
        "    tf.keras.layers.Dropout(0.5),\n",
        "    \n",
        "    tf.keras.layers.Dense(64, activation='relu'),\n",
        "    tf.keras.layers.Dense(5, activation='softmax')\n",
        "])"
      ],
      "execution_count": 24,
      "outputs": []
    },
    {
      "cell_type": "code",
      "metadata": {
        "id": "shDtvhFCat-q"
      },
      "source": [
        "%tensorflow_version 2.x\n",
        "import tensorflow as tf"
      ],
      "execution_count": 25,
      "outputs": []
    },
    {
      "cell_type": "code",
      "metadata": {
        "id": "ucKUCA-e6h7u"
      },
      "source": [
        "model.compile(optimizer='rmsprop',\n",
        "             loss='categorical_crossentropy',\n",
        "             metrics=['accuracy'])"
      ],
      "execution_count": 26,
      "outputs": []
    },
    {
      "cell_type": "code",
      "metadata": {
        "colab": {
          "base_uri": "https://localhost:8080/"
        },
        "id": "grh5H0lM6h7u",
        "outputId": "cf1dc007-e154-434b-951e-44fb7667ade2"
      },
      "source": [
        "with tf.device('/device:GPU:0'):\n",
        "  result = model.fit( train_generator, steps_per_epoch=30, epochs=100, \n",
        "                  validation_data= validation_generator,\n",
        "                  validation_steps=30)"
      ],
      "execution_count": 27,
      "outputs": [
        {
          "output_type": "stream",
          "text": [
            "Epoch 1/100\n",
            "30/30 [==============================] - 209s 6s/step - loss: 145.3190 - accuracy: 0.2218 - val_loss: 1.6004 - val_accuracy: 0.2733\n",
            "Epoch 2/100\n",
            "30/30 [==============================] - 143s 5s/step - loss: 1.6668 - accuracy: 0.2380 - val_loss: 1.6042 - val_accuracy: 0.2200\n",
            "Epoch 3/100\n",
            "30/30 [==============================] - 112s 4s/step - loss: 2.6420 - accuracy: 0.2104 - val_loss: 1.5763 - val_accuracy: 0.2333\n",
            "Epoch 4/100\n",
            "30/30 [==============================] - 90s 3s/step - loss: 1.6073 - accuracy: 0.2321 - val_loss: 2.2887 - val_accuracy: 0.2800\n",
            "Epoch 5/100\n",
            "30/30 [==============================] - 72s 2s/step - loss: 2.8080 - accuracy: 0.2259 - val_loss: 1.6037 - val_accuracy: 0.2400\n",
            "Epoch 6/100\n",
            "30/30 [==============================] - 62s 2s/step - loss: 1.6047 - accuracy: 0.2387 - val_loss: 1.5989 - val_accuracy: 0.2500\n",
            "Epoch 7/100\n",
            "30/30 [==============================] - 54s 2s/step - loss: 1.6872 - accuracy: 0.2241 - val_loss: 1.5896 - val_accuracy: 0.2633\n",
            "Epoch 8/100\n",
            "30/30 [==============================] - 51s 2s/step - loss: 1.9267 - accuracy: 0.2059 - val_loss: 1.6043 - val_accuracy: 0.2133\n",
            "Epoch 9/100\n",
            "30/30 [==============================] - 38s 1s/step - loss: 1.6061 - accuracy: 0.2230 - val_loss: 1.6032 - val_accuracy: 0.2333\n",
            "Epoch 10/100\n",
            "30/30 [==============================] - 35s 1s/step - loss: 1.6012 - accuracy: 0.2605 - val_loss: 1.5995 - val_accuracy: 0.2533\n",
            "Epoch 11/100\n",
            "30/30 [==============================] - 31s 1s/step - loss: 1.6037 - accuracy: 0.2141 - val_loss: 1.6048 - val_accuracy: 0.2667\n",
            "Epoch 12/100\n",
            "30/30 [==============================] - 27s 908ms/step - loss: 1.5998 - accuracy: 0.2753 - val_loss: 1.6045 - val_accuracy: 0.2300\n",
            "Epoch 13/100\n",
            "30/30 [==============================] - 26s 877ms/step - loss: 1.6053 - accuracy: 0.2350 - val_loss: 1.6046 - val_accuracy: 0.2300\n",
            "Epoch 14/100\n",
            "30/30 [==============================] - 26s 864ms/step - loss: 1.6031 - accuracy: 0.2312 - val_loss: 1.6019 - val_accuracy: 0.2500\n",
            "Epoch 15/100\n",
            "30/30 [==============================] - 23s 761ms/step - loss: 1.6078 - accuracy: 0.2248 - val_loss: 1.5926 - val_accuracy: 0.2533\n",
            "Epoch 16/100\n",
            "30/30 [==============================] - 23s 770ms/step - loss: 1.6021 - accuracy: 0.2371 - val_loss: 1.5914 - val_accuracy: 0.2400\n",
            "Epoch 17/100\n",
            "30/30 [==============================] - 23s 760ms/step - loss: 1.5986 - accuracy: 0.2630 - val_loss: 1.6016 - val_accuracy: 0.2000\n",
            "Epoch 18/100\n",
            "30/30 [==============================] - 21s 697ms/step - loss: 1.5942 - accuracy: 0.2760 - val_loss: 1.5996 - val_accuracy: 0.2367\n",
            "Epoch 19/100\n",
            "30/30 [==============================] - 22s 736ms/step - loss: 1.6002 - accuracy: 0.2384 - val_loss: 1.6074 - val_accuracy: 0.2033\n",
            "Epoch 20/100\n",
            "30/30 [==============================] - 21s 700ms/step - loss: 1.5972 - accuracy: 0.2427 - val_loss: 1.6030 - val_accuracy: 0.2300\n",
            "Epoch 21/100\n",
            "30/30 [==============================] - 21s 695ms/step - loss: 1.6002 - accuracy: 0.2548 - val_loss: 1.6010 - val_accuracy: 0.2533\n",
            "Epoch 22/100\n",
            "30/30 [==============================] - 21s 695ms/step - loss: 1.6068 - accuracy: 0.1986 - val_loss: 1.6055 - val_accuracy: 0.2200\n",
            "Epoch 23/100\n",
            "30/30 [==============================] - 21s 711ms/step - loss: 1.5993 - accuracy: 0.2530 - val_loss: 1.5965 - val_accuracy: 0.2467\n",
            "Epoch 24/100\n",
            "30/30 [==============================] - 20s 663ms/step - loss: 1.6158 - accuracy: 0.1963 - val_loss: 1.5964 - val_accuracy: 0.2533\n",
            "Epoch 25/100\n",
            "30/30 [==============================] - 20s 681ms/step - loss: 1.6016 - accuracy: 0.2475 - val_loss: 1.6044 - val_accuracy: 0.2200\n",
            "Epoch 26/100\n",
            "30/30 [==============================] - 20s 663ms/step - loss: 1.6129 - accuracy: 0.2146 - val_loss: 1.5985 - val_accuracy: 0.2567\n",
            "Epoch 27/100\n",
            "30/30 [==============================] - 20s 682ms/step - loss: 1.6032 - accuracy: 0.2521 - val_loss: 1.6033 - val_accuracy: 0.2700\n",
            "Epoch 28/100\n",
            "30/30 [==============================] - 20s 661ms/step - loss: 1.5899 - accuracy: 0.2840 - val_loss: 1.6024 - val_accuracy: 0.2233\n",
            "Epoch 29/100\n",
            "30/30 [==============================] - 20s 670ms/step - loss: 1.5832 - accuracy: 0.2644 - val_loss: 1.5982 - val_accuracy: 0.2200\n",
            "Epoch 30/100\n",
            "30/30 [==============================] - 20s 673ms/step - loss: 1.5993 - accuracy: 0.2349 - val_loss: 1.5971 - val_accuracy: 0.2300\n",
            "Epoch 31/100\n",
            "30/30 [==============================] - 20s 666ms/step - loss: 1.5893 - accuracy: 0.2506 - val_loss: 1.5882 - val_accuracy: 0.2733\n",
            "Epoch 32/100\n",
            "30/30 [==============================] - 20s 669ms/step - loss: 1.5891 - accuracy: 0.2691 - val_loss: 1.5994 - val_accuracy: 0.2400\n",
            "Epoch 33/100\n",
            "30/30 [==============================] - 20s 659ms/step - loss: 1.6019 - accuracy: 0.2297 - val_loss: 1.5937 - val_accuracy: 0.2467\n",
            "Epoch 34/100\n",
            "30/30 [==============================] - 20s 659ms/step - loss: 1.5972 - accuracy: 0.2300 - val_loss: 1.5994 - val_accuracy: 0.2533\n",
            "Epoch 35/100\n",
            "30/30 [==============================] - 20s 658ms/step - loss: 1.5970 - accuracy: 0.2626 - val_loss: 1.6024 - val_accuracy: 0.2300\n",
            "Epoch 36/100\n",
            "30/30 [==============================] - 20s 660ms/step - loss: 1.5953 - accuracy: 0.2452 - val_loss: 1.5907 - val_accuracy: 0.2067\n",
            "Epoch 37/100\n",
            "30/30 [==============================] - 20s 664ms/step - loss: 1.6036 - accuracy: 0.2322 - val_loss: 1.5971 - val_accuracy: 0.2433\n",
            "Epoch 38/100\n",
            "30/30 [==============================] - 20s 659ms/step - loss: 1.5989 - accuracy: 0.2291 - val_loss: 1.5940 - val_accuracy: 0.2633\n",
            "Epoch 39/100\n",
            "30/30 [==============================] - 20s 663ms/step - loss: 1.5925 - accuracy: 0.2486 - val_loss: 1.5917 - val_accuracy: 0.2433\n",
            "Epoch 40/100\n",
            "30/30 [==============================] - 20s 656ms/step - loss: 1.6174 - accuracy: 0.2059 - val_loss: 1.5984 - val_accuracy: 0.2533\n",
            "Epoch 41/100\n",
            "30/30 [==============================] - 20s 663ms/step - loss: 1.6069 - accuracy: 0.2246 - val_loss: 1.5912 - val_accuracy: 0.2500\n",
            "Epoch 42/100\n",
            "30/30 [==============================] - 20s 661ms/step - loss: 1.6025 - accuracy: 0.2048 - val_loss: 1.5959 - val_accuracy: 0.2367\n",
            "Epoch 43/100\n",
            "30/30 [==============================] - 20s 661ms/step - loss: 1.5951 - accuracy: 0.2135 - val_loss: 1.5930 - val_accuracy: 0.2333\n",
            "Epoch 44/100\n",
            "30/30 [==============================] - 20s 658ms/step - loss: 1.6009 - accuracy: 0.2557 - val_loss: 1.6079 - val_accuracy: 0.2233\n",
            "Epoch 45/100\n",
            "30/30 [==============================] - 20s 659ms/step - loss: 1.5987 - accuracy: 0.2330 - val_loss: 1.5980 - val_accuracy: 0.2367\n",
            "Epoch 46/100\n",
            "30/30 [==============================] - 20s 661ms/step - loss: 1.5912 - accuracy: 0.2547 - val_loss: 1.6083 - val_accuracy: 0.2700\n",
            "Epoch 47/100\n",
            "30/30 [==============================] - 20s 660ms/step - loss: 1.6068 - accuracy: 0.2057 - val_loss: 1.5942 - val_accuracy: 0.2667\n",
            "Epoch 48/100\n",
            "30/30 [==============================] - 20s 661ms/step - loss: 1.5937 - accuracy: 0.2632 - val_loss: 1.5917 - val_accuracy: 0.2600\n",
            "Epoch 49/100\n",
            "30/30 [==============================] - 20s 656ms/step - loss: 1.6039 - accuracy: 0.2189 - val_loss: 1.5986 - val_accuracy: 0.2033\n",
            "Epoch 50/100\n",
            "30/30 [==============================] - 20s 659ms/step - loss: 1.5936 - accuracy: 0.2564 - val_loss: 1.6041 - val_accuracy: 0.2300\n",
            "Epoch 51/100\n",
            "30/30 [==============================] - 20s 659ms/step - loss: 1.6145 - accuracy: 0.2226 - val_loss: 1.5998 - val_accuracy: 0.2467\n",
            "Epoch 52/100\n",
            "30/30 [==============================] - 20s 656ms/step - loss: 1.5988 - accuracy: 0.2728 - val_loss: 1.5877 - val_accuracy: 0.2500\n",
            "Epoch 53/100\n",
            "30/30 [==============================] - 20s 662ms/step - loss: 1.6098 - accuracy: 0.2128 - val_loss: 1.6064 - val_accuracy: 0.2600\n",
            "Epoch 54/100\n",
            "30/30 [==============================] - 20s 657ms/step - loss: 1.5936 - accuracy: 0.2532 - val_loss: 1.6036 - val_accuracy: 0.2233\n",
            "Epoch 55/100\n",
            "30/30 [==============================] - 20s 660ms/step - loss: 1.6041 - accuracy: 0.2343 - val_loss: 1.5980 - val_accuracy: 0.2367\n",
            "Epoch 56/100\n",
            "30/30 [==============================] - 20s 658ms/step - loss: 1.5897 - accuracy: 0.2570 - val_loss: 1.6012 - val_accuracy: 0.2733\n",
            "Epoch 57/100\n",
            "30/30 [==============================] - 20s 656ms/step - loss: 1.5976 - accuracy: 0.2497 - val_loss: 1.6051 - val_accuracy: 0.2200\n",
            "Epoch 58/100\n",
            "30/30 [==============================] - 20s 659ms/step - loss: 1.5981 - accuracy: 0.2420 - val_loss: 1.5958 - val_accuracy: 0.2500\n",
            "Epoch 59/100\n",
            "30/30 [==============================] - 20s 658ms/step - loss: 1.6018 - accuracy: 0.2684 - val_loss: 1.5975 - val_accuracy: 0.2533\n",
            "Epoch 60/100\n",
            "30/30 [==============================] - 20s 654ms/step - loss: 1.6089 - accuracy: 0.2191 - val_loss: 1.5884 - val_accuracy: 0.2667\n",
            "Epoch 61/100\n",
            "30/30 [==============================] - 20s 657ms/step - loss: 1.5974 - accuracy: 0.2519 - val_loss: 1.6142 - val_accuracy: 0.2133\n",
            "Epoch 62/100\n",
            "30/30 [==============================] - 20s 659ms/step - loss: 1.6020 - accuracy: 0.2298 - val_loss: 1.6016 - val_accuracy: 0.2633\n",
            "Epoch 63/100\n",
            "30/30 [==============================] - 20s 658ms/step - loss: 1.5817 - accuracy: 0.3070 - val_loss: 1.5859 - val_accuracy: 0.2333\n",
            "Epoch 64/100\n",
            "30/30 [==============================] - 20s 656ms/step - loss: 1.5827 - accuracy: 0.2915 - val_loss: 1.6084 - val_accuracy: 0.2433\n",
            "Epoch 65/100\n",
            "30/30 [==============================] - 20s 653ms/step - loss: 1.5974 - accuracy: 0.2254 - val_loss: 1.5887 - val_accuracy: 0.2367\n",
            "Epoch 66/100\n",
            "30/30 [==============================] - 20s 656ms/step - loss: 1.6131 - accuracy: 0.2187 - val_loss: 1.5925 - val_accuracy: 0.2500\n",
            "Epoch 67/100\n",
            "30/30 [==============================] - 20s 657ms/step - loss: 1.5845 - accuracy: 0.2856 - val_loss: 1.6037 - val_accuracy: 0.2300\n",
            "Epoch 68/100\n",
            "30/30 [==============================] - 20s 662ms/step - loss: 1.6067 - accuracy: 0.2592 - val_loss: 1.5935 - val_accuracy: 0.2600\n",
            "Epoch 69/100\n",
            "30/30 [==============================] - 20s 654ms/step - loss: 1.5948 - accuracy: 0.2562 - val_loss: 1.5861 - val_accuracy: 0.2633\n",
            "Epoch 70/100\n",
            "30/30 [==============================] - 20s 662ms/step - loss: 1.5989 - accuracy: 0.2358 - val_loss: 1.6023 - val_accuracy: 0.2200\n",
            "Epoch 71/100\n",
            "30/30 [==============================] - 20s 660ms/step - loss: 1.5948 - accuracy: 0.2414 - val_loss: 1.5923 - val_accuracy: 0.2567\n",
            "Epoch 72/100\n",
            "30/30 [==============================] - 20s 657ms/step - loss: 1.5996 - accuracy: 0.2446 - val_loss: 1.6254 - val_accuracy: 0.1867\n",
            "Epoch 73/100\n",
            "30/30 [==============================] - 20s 657ms/step - loss: 1.6026 - accuracy: 0.2526 - val_loss: 1.6000 - val_accuracy: 0.2367\n",
            "Epoch 74/100\n",
            "30/30 [==============================] - 20s 659ms/step - loss: 1.5898 - accuracy: 0.2529 - val_loss: 1.6037 - val_accuracy: 0.2533\n",
            "Epoch 75/100\n",
            "30/30 [==============================] - 20s 657ms/step - loss: 1.5897 - accuracy: 0.2567 - val_loss: 1.5841 - val_accuracy: 0.2633\n",
            "Epoch 76/100\n",
            "30/30 [==============================] - 20s 657ms/step - loss: 1.6054 - accuracy: 0.2080 - val_loss: 1.5908 - val_accuracy: 0.2633\n",
            "Epoch 77/100\n",
            "30/30 [==============================] - 20s 659ms/step - loss: 1.5935 - accuracy: 0.2606 - val_loss: 1.5957 - val_accuracy: 0.2633\n",
            "Epoch 78/100\n",
            "30/30 [==============================] - 20s 658ms/step - loss: 1.5966 - accuracy: 0.2445 - val_loss: 1.6013 - val_accuracy: 0.2167\n",
            "Epoch 79/100\n",
            "30/30 [==============================] - 20s 659ms/step - loss: 1.5885 - accuracy: 0.2786 - val_loss: 1.6009 - val_accuracy: 0.2467\n",
            "Epoch 80/100\n",
            "30/30 [==============================] - 20s 661ms/step - loss: 1.6053 - accuracy: 0.2439 - val_loss: 1.5946 - val_accuracy: 0.2633\n",
            "Epoch 81/100\n",
            "30/30 [==============================] - 20s 658ms/step - loss: 1.6019 - accuracy: 0.2574 - val_loss: 1.5999 - val_accuracy: 0.2433\n",
            "Epoch 82/100\n",
            "30/30 [==============================] - 20s 656ms/step - loss: 1.6003 - accuracy: 0.2385 - val_loss: 1.6152 - val_accuracy: 0.2233\n",
            "Epoch 83/100\n",
            "30/30 [==============================] - 20s 661ms/step - loss: 1.6047 - accuracy: 0.2394 - val_loss: 1.6050 - val_accuracy: 0.2400\n",
            "Epoch 84/100\n",
            "30/30 [==============================] - 20s 657ms/step - loss: 1.5979 - accuracy: 0.2410 - val_loss: 1.6254 - val_accuracy: 0.2033\n",
            "Epoch 85/100\n",
            "30/30 [==============================] - 20s 659ms/step - loss: 1.6128 - accuracy: 0.2196 - val_loss: 1.6015 - val_accuracy: 0.1967\n",
            "Epoch 86/100\n",
            "30/30 [==============================] - 20s 659ms/step - loss: 1.5893 - accuracy: 0.2784 - val_loss: 1.5963 - val_accuracy: 0.2467\n",
            "Epoch 87/100\n",
            "30/30 [==============================] - 20s 660ms/step - loss: 1.5943 - accuracy: 0.2606 - val_loss: 1.6035 - val_accuracy: 0.2367\n",
            "Epoch 88/100\n",
            "30/30 [==============================] - 20s 655ms/step - loss: 1.5899 - accuracy: 0.2640 - val_loss: 1.6022 - val_accuracy: 0.2267\n",
            "Epoch 89/100\n",
            "30/30 [==============================] - 20s 657ms/step - loss: 1.5802 - accuracy: 0.2565 - val_loss: 1.6099 - val_accuracy: 0.2300\n",
            "Epoch 90/100\n",
            "30/30 [==============================] - 20s 657ms/step - loss: 1.5867 - accuracy: 0.2671 - val_loss: 1.5956 - val_accuracy: 0.2733\n",
            "Epoch 91/100\n",
            "30/30 [==============================] - 20s 658ms/step - loss: 1.5979 - accuracy: 0.2520 - val_loss: 1.5956 - val_accuracy: 0.2600\n",
            "Epoch 92/100\n",
            "30/30 [==============================] - 20s 656ms/step - loss: 1.5967 - accuracy: 0.2562 - val_loss: 1.6147 - val_accuracy: 0.2100\n",
            "Epoch 93/100\n",
            "30/30 [==============================] - 20s 659ms/step - loss: 1.5936 - accuracy: 0.2710 - val_loss: 1.6073 - val_accuracy: 0.2300\n",
            "Epoch 94/100\n",
            "30/30 [==============================] - 20s 658ms/step - loss: 1.6082 - accuracy: 0.2298 - val_loss: 1.6013 - val_accuracy: 0.2633\n",
            "Epoch 95/100\n",
            "30/30 [==============================] - 20s 655ms/step - loss: 1.5992 - accuracy: 0.2470 - val_loss: 1.5736 - val_accuracy: 0.3200\n",
            "Epoch 96/100\n",
            "30/30 [==============================] - 20s 656ms/step - loss: 1.6005 - accuracy: 0.2560 - val_loss: 1.6043 - val_accuracy: 0.2300\n",
            "Epoch 97/100\n",
            "30/30 [==============================] - 20s 655ms/step - loss: 1.5889 - accuracy: 0.2609 - val_loss: 1.5922 - val_accuracy: 0.2467\n",
            "Epoch 98/100\n",
            "30/30 [==============================] - 20s 655ms/step - loss: 1.5935 - accuracy: 0.2223 - val_loss: 1.5971 - val_accuracy: 0.2667\n",
            "Epoch 99/100\n",
            "30/30 [==============================] - 20s 658ms/step - loss: 1.6024 - accuracy: 0.2339 - val_loss: 1.6151 - val_accuracy: 0.2300\n",
            "Epoch 100/100\n",
            "30/30 [==============================] - 20s 655ms/step - loss: 1.6004 - accuracy: 0.2401 - val_loss: 1.5953 - val_accuracy: 0.2467\n"
          ],
          "name": "stdout"
        }
      ]
    },
    {
      "cell_type": "code",
      "metadata": {
        "id": "jD_1HGmg6h7u"
      },
      "source": [
        ""
      ],
      "execution_count": 27,
      "outputs": []
    }
  ]
}